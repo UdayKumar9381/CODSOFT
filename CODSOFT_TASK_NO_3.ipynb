{
  "nbformat": 4,
  "nbformat_minor": 0,
  "metadata": {
    "colab": {
      "provenance": [],
      "authorship_tag": "ABX9TyPb6vO3kOIPQK2jJKTmPDWt",
      "include_colab_link": true
    },
    "kernelspec": {
      "name": "python3",
      "display_name": "Python 3"
    },
    "language_info": {
      "name": "python"
    }
  },
  "cells": [
    {
      "cell_type": "markdown",
      "metadata": {
        "id": "view-in-github",
        "colab_type": "text"
      },
      "source": [
        "<a href=\"https://colab.research.google.com/github/UdayKumar9381/CODSOFT/blob/main/CODSOFT_TASK_NO_3.ipynb\" target=\"_parent\"><img src=\"https://colab.research.google.com/assets/colab-badge.svg\" alt=\"Open In Colab\"/></a>"
      ]
    },
    {
      "cell_type": "code",
      "source": [
        "import random\n",
        "import string\n",
        "\n",
        "def generate_password(length):\n",
        "    # Define the characters to use for generating the password\n",
        "    characters = string.ascii_letters + string.digits + string.punctuation\n",
        "\n",
        "    # Generate a random password with the specified length\n",
        "    password = ''.join(random.choice(characters) for _ in range(length))\n",
        "\n",
        "    return password\n",
        "\n",
        "def main():\n",
        "    try:\n",
        "        password_length = int(input(\"Enter the desired password length: \"))\n",
        "        if password_length <= 0:\n",
        "            print(\"Password length should be a positive integer.\")\n",
        "        else:\n",
        "            password = generate_password(password_length)\n",
        "            print(\"Generated Password: \" + password)\n",
        "    except ValueError:\n",
        "        print(\"Invalid input. Please enter a valid password length as a positive integer.\")\n",
        "\n",
        "if __name__ == \"__main__\":\n",
        "    main()"
      ],
      "metadata": {
        "colab": {
          "base_uri": "https://localhost:8080/"
        },
        "id": "K_jMm3Ed-k8o",
        "outputId": "5ca294fe-d658-43a9-d57d-a1f2e6e2dc39"
      },
      "execution_count": 4,
      "outputs": [
        {
          "output_type": "stream",
          "name": "stdout",
          "text": [
            "Enter the desired password length: 33\n",
            "Generated Password: gyZ#J{KK0SBX);Slc}WABMdQn7kcu$`wI\n"
          ]
        }
      ]
    }
  ]
}