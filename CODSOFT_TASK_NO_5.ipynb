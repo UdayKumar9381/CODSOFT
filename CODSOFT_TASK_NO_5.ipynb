{
  "nbformat": 4,
  "nbformat_minor": 0,
  "metadata": {
    "colab": {
      "provenance": [],
      "authorship_tag": "ABX9TyMTdgfwEeuwDzrELYAYyI9w",
      "include_colab_link": true
    },
    "kernelspec": {
      "name": "python3",
      "display_name": "Python 3"
    },
    "language_info": {
      "name": "python"
    }
  },
  "cells": [
    {
      "cell_type": "markdown",
      "metadata": {
        "id": "view-in-github",
        "colab_type": "text"
      },
      "source": [
        "<a href=\"https://colab.research.google.com/github/UdayKumar9381/CODSOFT/blob/main/CODSOFT_TASK_NO_5.ipynb\" target=\"_parent\"><img src=\"https://colab.research.google.com/assets/colab-badge.svg\" alt=\"Open In Colab\"/></a>"
      ]
    },
    {
      "cell_type": "code",
      "source": [
        "class Contact:\n",
        "    def __init__(self, name, phone, email, address):\n",
        "        self.name = name\n",
        "        self.phone = phone\n",
        "        self.email = email\n",
        "        self.address = address\n",
        "\n",
        "class ContactBook:\n",
        "    def __init__(self):\n",
        "        self.contacts = []\n",
        "\n",
        "    def add_contact(self, contact):\n",
        "        self.contacts.append(contact)\n",
        "\n",
        "    def view_contacts(self):\n",
        "        if not self.contacts:\n",
        "            print(\"Contact list is empty.\")\n",
        "        else:\n",
        "            for contact in self.contacts:\n",
        "                print(f\"Name: {contact.name}, Phone: {contact.phone}\")\n",
        "\n",
        "    def search_contact(self, search_term):\n",
        "        results = []\n",
        "        for contact in self.contacts:\n",
        "            if (search_term.lower() in contact.name.lower()) or (search_term in contact.phone):\n",
        "                results.append(contact)\n",
        "        return results\n",
        "\n",
        "    def update_contact(self, old_contact, new_contact):\n",
        "        for i, contact in enumerate(self.contacts):\n",
        "            if old_contact.name == contact.name and old_contact.phone == contact.phone:\n",
        "                self.contacts[i] = new_contact\n",
        "                print(\"Contact updated successfully.\")\n",
        "                return\n",
        "        print(\"No matching contacts found.\")\n",
        "\n",
        "    def delete_contact(self, contact):\n",
        "        if contact in self.contacts:\n",
        "            self.contacts.remove(contact)\n",
        "            print(\"Contact deleted successfully.\")\n",
        "        else:\n",
        "            print(\"No matching contacts found.\")\n",
        "\n",
        "def main():\n",
        "    contact_book = ContactBook()\n",
        "\n",
        "    while True:\n",
        "        print(\"\\nContact Book\")\n",
        "        print(\"1. Add Contact\")\n",
        "        print(\"2. View Contact List\")\n",
        "        print(\"3. Search Contact\")\n",
        "        print(\"4. Update Contact\")\n",
        "        print(\"5. Delete Contact\")\n",
        "        print(\"6. Quit\")\n",
        "\n",
        "        choice = input(\"Enter your choice: \")\n",
        "\n",
        "        if choice == \"1\":\n",
        "            name = input(\"Name: \")\n",
        "            phone = input(\"Phone: \")\n",
        "            email = input(\"Email: \")\n",
        "            address = input(\"Address: \")\n",
        "            new_contact = Contact(name, phone, email, address)\n",
        "            contact_book.add_contact(new_contact)\n",
        "        elif choice == \"2\":\n",
        "            contact_book.view_contacts()\n",
        "        elif choice == \"3\":\n",
        "            search_term = input(\"Enter name or phone number to search: \")\n",
        "            results = contact_book.search_contact(search_term)\n",
        "            if results:\n",
        "                for result in results:\n",
        "                    print(f\"Name: {result.name}, Phone: {result.phone}\")\n",
        "            else:\n",
        "                print(\"No matching contacts found.\")\n",
        "        elif choice == \"4\":\n",
        "            old_name = input(\"Enter the name of the contact to update: \")\n",
        "            old_phone = input(\"Enter the phone number of the contact to update: \")\n",
        "            old_contact = Contact(old_name, old_phone, \"\", \"\")\n",
        "            if old_contact in contact_book.contacts:\n",
        "                name = input(\"Name: \")\n",
        "                phone = input(\"Phone: \")\n",
        "                email = input(\"Email: \")\n",
        "                address = input(\"Address: \")\n",
        "                new_contact = Contact(name, phone, email, address)\n",
        "                contact_book.update_contact(old_contact, new_contact)\n",
        "            else:\n",
        "                print(\"No matching contacts found.\")\n",
        "        elif choice == \"5\":\n",
        "            name = input(\"Enter the name of the contact to delete: \")\n",
        "            phone = input(\"Enter the phone number of the contact to delete: \")\n",
        "            contact = Contact(name, phone, \"\", \"\")\n",
        "            contact_book.delete_contact(contact)\n",
        "        elif choice == \"6\":\n",
        "            break\n",
        "        else:\n",
        "            print(\"Invalid choice. Please select a valid option.\")\n",
        "\n",
        "if __name__ == \"__main__\":\n",
        "    main()\n"
      ],
      "metadata": {
        "colab": {
          "base_uri": "https://localhost:8080/"
        },
        "id": "Jhhr8HJJ-JG4",
        "outputId": "530a344f-5a19-4dda-dd69-77270a8ae177"
      },
      "execution_count": null,
      "outputs": [
        {
          "output_type": "stream",
          "name": "stdout",
          "text": [
            "\n",
            "Contact Book\n",
            "1. Add Contact\n",
            "2. View Contact List\n",
            "3. Search Contact\n",
            "4. Update Contact\n",
            "5. Delete Contact\n",
            "6. Quit\n"
          ]
        }
      ]
    }
  ]
}